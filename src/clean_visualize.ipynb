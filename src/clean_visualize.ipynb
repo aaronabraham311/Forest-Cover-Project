{
 "cells": [
  {
   "cell_type": "markdown",
   "metadata": {},
   "source": [
    "# Forest Cover Problem\n",
    "\n",
    "## Objective\n",
    "The study area includes four wilderness areas located in the Roosevelt National Forest of northern Colorado. Each observation is a 30m x 30m patch. You are asked to predict an integer classification for the forest cover type. The seven types are:\n",
    "\n",
    "1 - Spruce/Fir\n",
    "2 - Lodgepole Pine\n",
    "3 - Ponderosa Pine\n",
    "4 - Cottonwood/Willow\n",
    "5 - Aspen\n",
    "6 - Douglas-fir\n",
    "7 - Krummholz\n",
    "\n",
    "The training set (15120 observations) contains both features and the Cover_Type. The test set contains only the features. You must predict the Cover_Type for every row in the test set (565892 observations)."
   ]
  },
  {
   "cell_type": "markdown",
   "metadata": {},
   "source": [
    "## Steps to complete the project\n",
    "The following steps must be completed to successfully complete this project\n",
    "1. Read in data and clean\n",
    "2. Data visualization to uncover trends\n",
    "3. Feature engineering\n",
    "4. Training algorithm\n",
    "5. Testing algorithm\n",
    "6. Optional - Ensembling"
   ]
  },
  {
   "cell_type": "markdown",
   "metadata": {},
   "source": [
    "## Reading data and cleaning"
   ]
  },
  {
   "cell_type": "markdown",
   "metadata": {},
   "source": [
    "Let us start off by importing important data science libraries and reading in the training and testing data. The training and testing data should be combined and shuffled to do some exploratory analysis"
   ]
  },
  {
   "cell_type": "code",
   "execution_count": 1,
   "metadata": {
    "collapsed": true
   },
   "outputs": [],
   "source": [
    "# Importing data handling libraries numpy and pandas\n",
    "import numpy as np\n",
    "import pandas as pd\n",
    "\n",
    "#Importing visualization libraries matplotlib and seaborn\n",
    "import matplotlib.pyplot as plt\n",
    "import seaborn as sns\n",
    "%matplotlib inline\n",
    "plt.rcParams['figure.figsize'] = [20, 10]"
   ]
  },
  {
   "cell_type": "code",
   "execution_count": 2,
   "metadata": {
    "collapsed": true
   },
   "outputs": [],
   "source": [
    "train = pd.read_csv(\"../data/train.csv\")\n",
    "test = pd.read_csv(\"../data/test.csv\")\n",
    "combined = train.append(test, ignore_index = True) # Does not keep index"
   ]
  },
  {
   "cell_type": "markdown",
   "metadata": {},
   "source": [
    "Before we go into the data visualization, we need to check if there are any missing values in the training or testing datasets. "
   ]
  },
  {
   "cell_type": "code",
   "execution_count": 3,
   "metadata": {},
   "outputs": [
    {
     "data": {
      "text/plain": [
       "False"
      ]
     },
     "execution_count": 3,
     "metadata": {},
     "output_type": "execute_result"
    }
   ],
   "source": [
    "# Checking NaN in training dataset\n",
    "train.isnull().values.any()"
   ]
  },
  {
   "cell_type": "code",
   "execution_count": 4,
   "metadata": {},
   "outputs": [
    {
     "data": {
      "text/plain": [
       "False"
      ]
     },
     "execution_count": 4,
     "metadata": {},
     "output_type": "execute_result"
    }
   ],
   "source": [
    "# Checking NaN in testing dataset\n",
    "test.isnull().values.any()"
   ]
  },
  {
   "cell_type": "markdown",
   "metadata": {},
   "source": [
    "An initial check reveals that there is no missing values in the form of NaN, but sometimes, the database creators may have inputted the missing value as a '0' or another value that does not make sense in context. This will be covered in the data visualization part of the notebook. "
   ]
  },
  {
   "cell_type": "markdown",
   "metadata": {},
   "source": [
    "Checking the head of the dataset, specifically the target variable \"Cover_Type\""
   ]
  },
  {
   "cell_type": "code",
   "execution_count": 12,
   "metadata": {},
   "outputs": [
    {
     "data": {
      "text/html": [
       "<div>\n",
       "<style>\n",
       "    .dataframe thead tr:only-child th {\n",
       "        text-align: right;\n",
       "    }\n",
       "\n",
       "    .dataframe thead th {\n",
       "        text-align: left;\n",
       "    }\n",
       "\n",
       "    .dataframe tbody tr th {\n",
       "        vertical-align: top;\n",
       "    }\n",
       "</style>\n",
       "<table border=\"1\" class=\"dataframe\">\n",
       "  <thead>\n",
       "    <tr style=\"text-align: right;\">\n",
       "      <th></th>\n",
       "      <th>Aspect</th>\n",
       "      <th>Cover_Type</th>\n",
       "      <th>Elevation</th>\n",
       "      <th>Hillshade_3pm</th>\n",
       "      <th>Hillshade_9am</th>\n",
       "      <th>Hillshade_Noon</th>\n",
       "      <th>Horizontal_Distance_To_Fire_Points</th>\n",
       "      <th>Horizontal_Distance_To_Hydrology</th>\n",
       "      <th>Horizontal_Distance_To_Roadways</th>\n",
       "      <th>Id</th>\n",
       "      <th>...</th>\n",
       "      <th>Soil_Type5</th>\n",
       "      <th>Soil_Type6</th>\n",
       "      <th>Soil_Type7</th>\n",
       "      <th>Soil_Type8</th>\n",
       "      <th>Soil_Type9</th>\n",
       "      <th>Vertical_Distance_To_Hydrology</th>\n",
       "      <th>Wilderness_Area1</th>\n",
       "      <th>Wilderness_Area2</th>\n",
       "      <th>Wilderness_Area3</th>\n",
       "      <th>Wilderness_Area4</th>\n",
       "    </tr>\n",
       "  </thead>\n",
       "  <tbody>\n",
       "    <tr>\n",
       "      <th>0</th>\n",
       "      <td>51</td>\n",
       "      <td>5.0</td>\n",
       "      <td>2596</td>\n",
       "      <td>148</td>\n",
       "      <td>221</td>\n",
       "      <td>232</td>\n",
       "      <td>6279</td>\n",
       "      <td>258</td>\n",
       "      <td>510</td>\n",
       "      <td>1</td>\n",
       "      <td>...</td>\n",
       "      <td>0</td>\n",
       "      <td>0</td>\n",
       "      <td>0</td>\n",
       "      <td>0</td>\n",
       "      <td>0</td>\n",
       "      <td>0</td>\n",
       "      <td>1</td>\n",
       "      <td>0</td>\n",
       "      <td>0</td>\n",
       "      <td>0</td>\n",
       "    </tr>\n",
       "    <tr>\n",
       "      <th>1</th>\n",
       "      <td>56</td>\n",
       "      <td>5.0</td>\n",
       "      <td>2590</td>\n",
       "      <td>151</td>\n",
       "      <td>220</td>\n",
       "      <td>235</td>\n",
       "      <td>6225</td>\n",
       "      <td>212</td>\n",
       "      <td>390</td>\n",
       "      <td>2</td>\n",
       "      <td>...</td>\n",
       "      <td>0</td>\n",
       "      <td>0</td>\n",
       "      <td>0</td>\n",
       "      <td>0</td>\n",
       "      <td>0</td>\n",
       "      <td>-6</td>\n",
       "      <td>1</td>\n",
       "      <td>0</td>\n",
       "      <td>0</td>\n",
       "      <td>0</td>\n",
       "    </tr>\n",
       "    <tr>\n",
       "      <th>2</th>\n",
       "      <td>139</td>\n",
       "      <td>2.0</td>\n",
       "      <td>2804</td>\n",
       "      <td>135</td>\n",
       "      <td>234</td>\n",
       "      <td>238</td>\n",
       "      <td>6121</td>\n",
       "      <td>268</td>\n",
       "      <td>3180</td>\n",
       "      <td>3</td>\n",
       "      <td>...</td>\n",
       "      <td>0</td>\n",
       "      <td>0</td>\n",
       "      <td>0</td>\n",
       "      <td>0</td>\n",
       "      <td>0</td>\n",
       "      <td>65</td>\n",
       "      <td>1</td>\n",
       "      <td>0</td>\n",
       "      <td>0</td>\n",
       "      <td>0</td>\n",
       "    </tr>\n",
       "    <tr>\n",
       "      <th>3</th>\n",
       "      <td>155</td>\n",
       "      <td>2.0</td>\n",
       "      <td>2785</td>\n",
       "      <td>122</td>\n",
       "      <td>238</td>\n",
       "      <td>238</td>\n",
       "      <td>6211</td>\n",
       "      <td>242</td>\n",
       "      <td>3090</td>\n",
       "      <td>4</td>\n",
       "      <td>...</td>\n",
       "      <td>0</td>\n",
       "      <td>0</td>\n",
       "      <td>0</td>\n",
       "      <td>0</td>\n",
       "      <td>0</td>\n",
       "      <td>118</td>\n",
       "      <td>1</td>\n",
       "      <td>0</td>\n",
       "      <td>0</td>\n",
       "      <td>0</td>\n",
       "    </tr>\n",
       "    <tr>\n",
       "      <th>4</th>\n",
       "      <td>45</td>\n",
       "      <td>5.0</td>\n",
       "      <td>2595</td>\n",
       "      <td>150</td>\n",
       "      <td>220</td>\n",
       "      <td>234</td>\n",
       "      <td>6172</td>\n",
       "      <td>153</td>\n",
       "      <td>391</td>\n",
       "      <td>5</td>\n",
       "      <td>...</td>\n",
       "      <td>0</td>\n",
       "      <td>0</td>\n",
       "      <td>0</td>\n",
       "      <td>0</td>\n",
       "      <td>0</td>\n",
       "      <td>-1</td>\n",
       "      <td>1</td>\n",
       "      <td>0</td>\n",
       "      <td>0</td>\n",
       "      <td>0</td>\n",
       "    </tr>\n",
       "  </tbody>\n",
       "</table>\n",
       "<p>5 rows × 56 columns</p>\n",
       "</div>"
      ],
      "text/plain": [
       "   Aspect  Cover_Type  Elevation  Hillshade_3pm  Hillshade_9am  \\\n",
       "0      51         5.0       2596            148            221   \n",
       "1      56         5.0       2590            151            220   \n",
       "2     139         2.0       2804            135            234   \n",
       "3     155         2.0       2785            122            238   \n",
       "4      45         5.0       2595            150            220   \n",
       "\n",
       "   Hillshade_Noon  Horizontal_Distance_To_Fire_Points  \\\n",
       "0             232                                6279   \n",
       "1             235                                6225   \n",
       "2             238                                6121   \n",
       "3             238                                6211   \n",
       "4             234                                6172   \n",
       "\n",
       "   Horizontal_Distance_To_Hydrology  Horizontal_Distance_To_Roadways  Id  \\\n",
       "0                               258                              510   1   \n",
       "1                               212                              390   2   \n",
       "2                               268                             3180   3   \n",
       "3                               242                             3090   4   \n",
       "4                               153                              391   5   \n",
       "\n",
       "         ...         Soil_Type5  Soil_Type6  Soil_Type7  Soil_Type8  \\\n",
       "0        ...                  0           0           0           0   \n",
       "1        ...                  0           0           0           0   \n",
       "2        ...                  0           0           0           0   \n",
       "3        ...                  0           0           0           0   \n",
       "4        ...                  0           0           0           0   \n",
       "\n",
       "   Soil_Type9  Vertical_Distance_To_Hydrology  Wilderness_Area1  \\\n",
       "0           0                               0                 1   \n",
       "1           0                              -6                 1   \n",
       "2           0                              65                 1   \n",
       "3           0                             118                 1   \n",
       "4           0                              -1                 1   \n",
       "\n",
       "   Wilderness_Area2  Wilderness_Area3  Wilderness_Area4  \n",
       "0                 0                 0                 0  \n",
       "1                 0                 0                 0  \n",
       "2                 0                 0                 0  \n",
       "3                 0                 0                 0  \n",
       "4                 0                 0                 0  \n",
       "\n",
       "[5 rows x 56 columns]"
      ]
     },
     "execution_count": 12,
     "metadata": {},
     "output_type": "execute_result"
    }
   ],
   "source": [
    "combined.head()"
   ]
  },
  {
   "cell_type": "markdown",
   "metadata": {},
   "source": [
    "Furthermore, one-hot encoding should be performed on categorical variables. However, looking at the metadata, it seems that any potential categorical variables has already been one-hot encoded. Let us check whether these encoded variables are categorical. If not, we will factorize them. (http://pbpython.com/categorical-encoding.html)"
   ]
  },
  {
   "cell_type": "code",
   "execution_count": 7,
   "metadata": {},
   "outputs": [
    {
     "data": {
      "text/plain": [
       "Aspect                                  int64\n",
       "Cover_Type                            float64\n",
       "Elevation                               int64\n",
       "Hillshade_3pm                           int64\n",
       "Hillshade_9am                           int64\n",
       "Hillshade_Noon                          int64\n",
       "Horizontal_Distance_To_Fire_Points      int64\n",
       "Horizontal_Distance_To_Hydrology        int64\n",
       "Horizontal_Distance_To_Roadways         int64\n",
       "Id                                      int64\n",
       "Slope                                   int64\n",
       "Soil_Type1                              int64\n",
       "Soil_Type10                             int64\n",
       "Soil_Type11                             int64\n",
       "Soil_Type12                             int64\n",
       "Soil_Type13                             int64\n",
       "Soil_Type14                             int64\n",
       "Soil_Type15                             int64\n",
       "Soil_Type16                             int64\n",
       "Soil_Type17                             int64\n",
       "Soil_Type18                             int64\n",
       "Soil_Type19                             int64\n",
       "Soil_Type2                              int64\n",
       "Soil_Type20                             int64\n",
       "Soil_Type21                             int64\n",
       "Soil_Type22                             int64\n",
       "Soil_Type23                             int64\n",
       "Soil_Type24                             int64\n",
       "Soil_Type25                             int64\n",
       "Soil_Type26                             int64\n",
       "Soil_Type27                             int64\n",
       "Soil_Type28                             int64\n",
       "Soil_Type29                             int64\n",
       "Soil_Type3                              int64\n",
       "Soil_Type30                             int64\n",
       "Soil_Type31                             int64\n",
       "Soil_Type32                             int64\n",
       "Soil_Type33                             int64\n",
       "Soil_Type34                             int64\n",
       "Soil_Type35                             int64\n",
       "Soil_Type36                             int64\n",
       "Soil_Type37                             int64\n",
       "Soil_Type38                             int64\n",
       "Soil_Type39                             int64\n",
       "Soil_Type4                              int64\n",
       "Soil_Type40                             int64\n",
       "Soil_Type5                              int64\n",
       "Soil_Type6                              int64\n",
       "Soil_Type7                              int64\n",
       "Soil_Type8                              int64\n",
       "Soil_Type9                              int64\n",
       "Vertical_Distance_To_Hydrology          int64\n",
       "Wilderness_Area1                        int64\n",
       "Wilderness_Area2                        int64\n",
       "Wilderness_Area3                        int64\n",
       "Wilderness_Area4                        int64\n",
       "dtype: object"
      ]
     },
     "execution_count": 7,
     "metadata": {},
     "output_type": "execute_result"
    }
   ],
   "source": [
    "combined.dtypes # Categorical variables should be in \"obj\" form"
   ]
  },
  {
   "cell_type": "markdown",
   "metadata": {},
   "source": [
    "It seems that these variables are not encoded categorically. The following variables must be encoded categorically\n",
    "* Soil_TypeN\n",
    "* Wilderness_AreaN \n",
    "* Cover_Type"
   ]
  },
  {
   "cell_type": "code",
   "execution_count": 3,
   "metadata": {},
   "outputs": [
    {
     "name": "stdout",
     "output_type": "stream",
     "text": [
      "['Soil_Type1', 'Soil_Type10', 'Soil_Type11', 'Soil_Type12', 'Soil_Type13', 'Soil_Type14', 'Soil_Type15', 'Soil_Type16', 'Soil_Type17', 'Soil_Type18', 'Soil_Type19', 'Soil_Type2', 'Soil_Type20', 'Soil_Type21', 'Soil_Type22', 'Soil_Type23', 'Soil_Type24', 'Soil_Type25', 'Soil_Type26', 'Soil_Type27', 'Soil_Type28', 'Soil_Type29', 'Soil_Type3', 'Soil_Type30', 'Soil_Type31', 'Soil_Type32', 'Soil_Type33', 'Soil_Type34', 'Soil_Type35', 'Soil_Type36', 'Soil_Type37', 'Soil_Type38', 'Soil_Type39', 'Soil_Type4', 'Soil_Type40', 'Soil_Type5', 'Soil_Type6', 'Soil_Type7', 'Soil_Type8', 'Soil_Type9']\n",
      "['Wilderness_Area1', 'Wilderness_Area2', 'Wilderness_Area3', 'Wilderness_Area4']\n"
     ]
    }
   ],
   "source": [
    "soilTypesCols = [col for col in combined.columns if 'Soil_Type' in col] # List of all variables with Soil_Type\n",
    "wildernessAreaCols = [col for col in combined.columns if 'Wilderness_Area' in col]\n",
    "\n",
    "print(soilTypesCols)\n",
    "print(wildernessAreaCols)\n",
    "\n",
    "# Converting variables to category\n",
    "\n",
    "for col in soilTypesCols:\n",
    "    combined[col] = combined[col].astype('category')\n",
    "    \n",
    "for col in wildernessAreaCols:\n",
    "    combined[col] = combined[col].astype('category')\n",
    "\n",
    "combined[\"Cover_Type\"] = combined[\"Cover_Type\"].astype('category')"
   ]
  },
  {
   "cell_type": "markdown",
   "metadata": {},
   "source": [
    "With that, the variables that we need are all categorical. Any more data cleaning can only be done with a more indepth look into the data with visualizations.\n",
    "\n",
    "## Exploratory Data Analysis\n",
    "\n",
    "There are a couple of objectives I would like to meet in the EDA:\n",
    "1. Check for the distribution of variables and normalize outliers\n",
    "2. Standardize all variables\n",
    "3. Check for covariation\n",
    "\n",
    "I will start off by plotting the class balance for the variable Cover_Type"
   ]
  },
  {
   "cell_type": "code",
   "execution_count": 15,
   "metadata": {},
   "outputs": [
    {
     "data": {
      "text/plain": [
       "7    2160\n",
       "6    2160\n",
       "5    2160\n",
       "4    2160\n",
       "3    2160\n",
       "2    2160\n",
       "1    2160\n",
       "Name: Cover_Type, dtype: int64"
      ]
     },
     "execution_count": 15,
     "metadata": {},
     "output_type": "execute_result"
    }
   ],
   "source": [
    "# Training set balance\n",
    "train[\"Cover_Type\"].value_counts()"
   ]
  },
  {
   "cell_type": "markdown",
   "metadata": {},
   "source": [
    "It seems that the data distribution for the predicting variable is balanced! I will now check for outliers in the continuous variables via boxplot figures"
   ]
  },
  {
   "cell_type": "code",
   "execution_count": 8,
   "metadata": {},
   "outputs": [
    {
     "data": {
      "text/plain": [
       "Text(0.5,1,'Slope distribution')"
      ]
     },
     "execution_count": 8,
     "metadata": {},
     "output_type": "execute_result"
    },
    {
     "data": {
      "image/png": "[encoded data removed]",
      "text/plain": [
       "<matplotlib.figure.Figure at 0x1a0fd13400>"
      ]
     },
     "metadata": {},
     "output_type": "display_data"
    }
   ],
   "source": [
    "# Creating subplots for faster analysis\n",
    "fig, axs = plt.subplots(3, 3)\n",
    "\n",
    "#Aspect\n",
    "axs[0,0].boxplot(train[\"Aspect\"])\n",
    "axs[0,0].set_title(\"Aspect Distribution\")\n",
    "\n",
    "#Elevation\n",
    "axs[0, 1].boxplot(train[\"Elevation\"])\n",
    "axs[0, 1].set_title(\"Elevation Distribution\")\n",
    "\n",
    "#Hillshade_3pm\n",
    "axs[0, 2].boxplot(train[\"Hillshade_3pm\"])\n",
    "axs[0, 2].set_title(\"Hillshade at 3pm Distribution\")\n",
    "\n",
    "#Hillshade_9am\n",
    "axs[1, 0].boxplot(train[\"Hillshade_9am\"])\n",
    "axs[1, 0].set_title(\"Hillshade at 9am distribution\")\n",
    "\n",
    "#Hillshade_Noon\n",
    "axs[1, 1].boxplot(train[\"Hillshade_Noon\"])\n",
    "axs[1, 1].set_title(\"Hillshade at Noon distribution\")\n",
    "\n",
    "#Horizontal_Distance_To_Fire_Points\n",
    "axs[1, 2].boxplot(train[\"Horizontal_Distance_To_Fire_Points\"])\n",
    "axs[1, 2].set_title(\"Horizontal Distance To Fire Points distribution\")\n",
    "\n",
    "#Horizontal_Distance_To_Hydrology \n",
    "axs[2, 0].boxplot(train[\"Horizontal_Distance_To_Hydrology\"])\n",
    "axs[2, 0].set_title(\"Horizontal Distance To Hydrology distribution\")\n",
    "\n",
    "#Horizontal_Distance_To_Roadways \n",
    "axs[2, 1].boxplot(train[\"Horizontal_Distance_To_Roadways\"])\n",
    "axs[2, 1].set_title(\"Horizontal Distance To Roadways distribution\")\n",
    "\n",
    "#Slope \n",
    "axs[2, 2].boxplot(train[\"Slope\"])\n",
    "axs[2, 2].set_title(\"Slope distribution\")"
   ]
  },
  {
   "cell_type": "markdown",
   "metadata": {
    "collapsed": true
   },
   "source": [
    "From the subplots, we can see that there are a lot of outliers for hillshade variables, horizontal distance variables and slope distribution variables (as symbolized by the dots outside the IQR. If we were to leave these outliers, it could create a lot of problems in training algorithms. What is interesting about these outliers is that they are all on one tail, which makes sense (you cannot have negative outliers for horizontal distance from hydrology). \n",
    "\n",
    "Although outliers may affect the performance of these algorithms, it is important to note that the outliers present here are not from a technical glitch or bad collection: it is simply the nature of the data. Removing outliers might be foolish in this situation as we would be removing valuable data."
   ]
  },
  {
   "cell_type": "markdown",
   "metadata": {
    "collapsed": true
   },
   "source": [
    "We also notice in this dataset that there are plentiful variables. While that is great, the fact that they are not in the same scale is worrisome. To solve for this problem, we will be using standardization. Each variable will be converted to a normal distribution with mean 0 and unit variance. However, we need to make sure these variables are from a normal distribution first. To do that, we can plot multiple histograms. "
   ]
  },
  {
   "cell_type": "code",
   "execution_count": 21,
   "metadata": {},
   "outputs": [
    {
     "data": {
      "text/plain": [
       "Text(0.5,1,'Slope distribution')"
      ]
     },
     "execution_count": 21,
     "metadata": {},
     "output_type": "execute_result"
    },
    {
     "data": {
      "image/png": "[encoded data removed]",
      "text/plain": [
       "<matplotlib.figure.Figure at 0x1a19bde0b8>"
      ]
     },
     "metadata": {},
     "output_type": "display_data"
    }
   ],
   "source": [
    "# Creating subplots for faster analysis\n",
    "fig, axs = plt.subplots(3, 3)\n",
    "\n",
    "#Aspect\n",
    "axs[0,0].hist(train[\"Aspect\"])\n",
    "axs[0,0].set_title(\"Aspect Distribution\")\n",
    "\n",
    "#Elevation\n",
    "axs[0, 1].hist(train[\"Elevation\"])\n",
    "axs[0, 1].set_title(\"Elevation Distribution\")\n",
    "\n",
    "#Hillshade_3pm\n",
    "axs[0, 2].hist(train[\"Hillshade_3pm\"])\n",
    "axs[0, 2].set_title(\"Hillshade at 3pm Distribution\")\n",
    "\n",
    "#Hillshade_9am\n",
    "axs[1, 0].hist(train[\"Hillshade_9am\"])\n",
    "axs[1, 0].set_title(\"Hillshade at 9am distribution\")\n",
    "\n",
    "#Hillshade_Noon\n",
    "axs[1, 1].hist(train[\"Hillshade_Noon\"])\n",
    "axs[1, 1].set_title(\"Hillshade at Noon distribution\")\n",
    "\n",
    "#Horizontal_Distance_To_Fire_Points\n",
    "axs[1, 2].hist(train[\"Horizontal_Distance_To_Fire_Points\"])\n",
    "axs[1, 2].set_title(\"Horizontal Distance To Fire Points distribution\")\n",
    "\n",
    "#Horizontal_Distance_To_Hydrology \n",
    "axs[2, 0].hist(train[\"Horizontal_Distance_To_Hydrology\"])\n",
    "axs[2, 0].set_title(\"Horizontal Distance To Hydrology distribution\")\n",
    "\n",
    "#Horizontal_Distance_To_Roadways \n",
    "axs[2, 1].hist(train[\"Horizontal_Distance_To_Roadways\"])\n",
    "axs[2, 1].set_title(\"Horizontal Distance To Roadways distribution\")\n",
    "\n",
    "#Slope \n",
    "axs[2, 2].hist(train[\"Slope\"])\n",
    "axs[2, 2].set_title(\"Slope distribution\")"
   ]
  },
  {
   "cell_type": "markdown",
   "metadata": {},
   "source": [
    "Interesting! Most of these variables are not normally distributed, so a simple standardization procedure may not work. Instead, I will use a minmax scaler. "
   ]
  },
  {
   "cell_type": "code",
   "execution_count": 22,
   "metadata": {},
   "outputs": [
    {
     "ename": "SyntaxError",
     "evalue": "invalid syntax (<ipython-input-22-0afb81c57638>, line 8)",
     "output_type": "error",
     "traceback": [
      "\u001b[0;36m  File \u001b[0;32m\"<ipython-input-22-0afb81c57638>\"\u001b[0;36m, line \u001b[0;32m8\u001b[0m\n\u001b[0;31m    scaling_data = pd.DataFrame(preprocessing.MinMaxScaler(scaling_data[[\"Aspect\":\"Horizontal_Distance_To_Hyrdology\", ]]), columns = prev_columns)\u001b[0m\n\u001b[0m                                                                                 ^\u001b[0m\n\u001b[0;31mSyntaxError\u001b[0m\u001b[0;31m:\u001b[0m invalid syntax\n"
     ]
    }
   ],
   "source": [
    "from sklearn import preprocessing\n",
    "\n",
    "scaling_data = combined.drop(soilTypesCols, axis = 1)\n",
    "scaling_data = combined.drop(['Cover_Type', 'Wilderness_Area1','Wilderness_Area2',\n",
    "                              'Wilderness_Area3','Wilderness_Area4'], axis = 1)\n",
    "prev_columns = scaling_data.columns\n",
    "\n",
    "scaling_data = pd.DataFrame(preprocessing.MinMaxScaler(scaling_data[[\"Aspect\":\"Horizontal_Distance_To_Hyrdology\", ]]), columns = prev_columns)\n",
    "combined = pd.concat(combined,scaling_data)"
   ]
  },
  {
   "cell_type": "code",
   "execution_count": 10,
   "metadata": {},
   "outputs": [
    {
     "data": {
      "text/plain": [
       "Index(['Aspect', 'Cover_Type', 'Elevation', 'Hillshade_3pm', 'Hillshade_9am',\n",
       "       'Hillshade_Noon', 'Horizontal_Distance_To_Fire_Points',\n",
       "       'Horizontal_Distance_To_Hydrology', 'Horizontal_Distance_To_Roadways',\n",
       "       'Id', 'Slope', 'Vertical_Distance_To_Hydrology', 'Wilderness_Area1',\n",
       "       'Wilderness_Area2', 'Wilderness_Area3', 'Wilderness_Area4'],\n",
       "      dtype='object')"
      ]
     },
     "execution_count": 10,
     "metadata": {},
     "output_type": "execute_result"
    }
   ],
   "source": [
    "columns"
   ]
  },
  {
   "cell_type": "code",
   "execution_count": 16,
   "metadata": {},
   "outputs": [
    {
     "data": {
      "text/plain": [
       "16"
      ]
     },
     "execution_count": 16,
     "metadata": {},
     "output_type": "execute_result"
    }
   ],
   "source": [
    "len(prev_columns)"
   ]
  },
  {
   "cell_type": "markdown",
   "metadata": {
    "collapsed": true
   },
   "source": [
    "Now that the numerical data is scaled, I will now try to combine the dataset "
   ]
  }
 ],
 "metadata": {
  "kernelspec": {
   "display_name": "Python 3",
   "language": "python",
   "name": "python3"
  },
  "language_info": {
   "codemirror_mode": {
    "name": "ipython",
    "version": 3
   },
   "file_extension": ".py",
   "mimetype": "text/x-python",
   "name": "python",
   "nbconvert_exporter": "python",
   "pygments_lexer": "ipython3",
   "version": "3.6.3"
  }
 },
 "nbformat": 4,
 "nbformat_minor": 2
}
