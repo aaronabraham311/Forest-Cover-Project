{
 "cells": [
  {
   "cell_type": "markdown",
   "metadata": {},
   "source": [
    "## Machine Learning\n",
    "\n",
    "Now that we have done some feature engineering and did a little data exploration, it is time we start to train an algorithm to predict the cover type of the forest. There are a couple of things that we need to remind ourselves as we begin to build the algorithm:\n",
    "\n",
    "1. Algorithm should be non-parametric: many of the other algorithms that are parametric often have assumptions that may not fit well with the form of data that we have, especially as many of our variables are non-normal\n",
    "\n",
    "2. Reduce overfitting by using stratified k-fold cross-validation: Contintual training and testing will help us make a better model that would be less prone to overfitting, a problem encountered in many non-parameteric algorithms\n",
    "\n",
    "Let's get started! We'll first load in our initial libraries and data."
   ]
  },
  {
   "cell_type": "code",
   "execution_count": 43,
   "metadata": {
    "collapsed": true
   },
   "outputs": [],
   "source": [
    "import numpy as np\n",
    "import pandas as pd\n",
    "import matplotlib.pyplot as plt\n",
    "import seaborn as sns\n",
    "\n",
    "train = pd.read_csv(\"../data/train.csv\")\n",
    "test = pd.read_csv(\"../data/test.csv\")"
   ]
  },
  {
   "cell_type": "markdown",
   "metadata": {},
   "source": [
    "Let's do some cross-validation. Since the problem already gave us a training and testing dataset, I will be using cross-validation on the training dataset.\n",
    "\n",
    "I will be doing a little pre-processing to set up the datasets for training"
   ]
  },
  {
   "cell_type": "code",
   "execution_count": 2,
   "metadata": {
    "collapsed": true
   },
   "outputs": [],
   "source": [
    "Y_train = train[\"Cover_Type\"]\n",
    "X_train = train.drop(\"Cover_Type\", axis = 1)"
   ]
  },
  {
   "cell_type": "markdown",
   "metadata": {},
   "source": [
    "The non-parametric algorithms I would like to test are: decision trees, random forest, k-nearest neighbors and support vector machine.\n",
    "\n",
    "I will iterate through each model and print out the cross-validation score for each."
   ]
  },
  {
   "cell_type": "code",
   "execution_count": 3,
   "metadata": {},
   "outputs": [
    {
     "name": "stdout",
     "output_type": "stream",
     "text": [
      "RF: 0.571098 (0.085077)\n",
      "KNN: 0.092063 (0.056787)\n",
      "CART: 0.535979 (0.085821)\n",
      "SVM: 0.102778 (0.022351)\n"
     ]
    },
    {
     "ename": "TypeError",
     "evalue": "fit() missing 1 required positional argument: 'y'",
     "output_type": "error",
     "traceback": [
      "\u001b[0;31m---------------------------------------------------------------------------\u001b[0m",
      "\u001b[0;31mTypeError\u001b[0m                                 Traceback (most recent call last)",
      "\u001b[0;32m<ipython-input-3-66696ede6c2f>\u001b[0m in \u001b[0;36m<module>\u001b[0;34m()\u001b[0m\n\u001b[1;32m     28\u001b[0m \u001b[0;34m\u001b[0m\u001b[0m\n\u001b[1;32m     29\u001b[0m \u001b[0;31m# Fitting models\u001b[0m\u001b[0;34m\u001b[0m\u001b[0;34m\u001b[0m\u001b[0m\n\u001b[0;32m---> 30\u001b[0;31m \u001b[0msvmModel\u001b[0m \u001b[0;34m=\u001b[0m \u001b[0mSVC\u001b[0m\u001b[0;34m.\u001b[0m\u001b[0mfit\u001b[0m\u001b[0;34m(\u001b[0m\u001b[0mX_train\u001b[0m\u001b[0;34m,\u001b[0m \u001b[0mY_train\u001b[0m\u001b[0;34m)\u001b[0m\u001b[0;34m\u001b[0m\u001b[0m\n\u001b[0m\u001b[1;32m     31\u001b[0m \u001b[0mcartModel\u001b[0m \u001b[0;34m=\u001b[0m \u001b[0mDecisionTressClassifier\u001b[0m\u001b[0;34m.\u001b[0m\u001b[0mfit\u001b[0m\u001b[0;34m(\u001b[0m\u001b[0mX_train\u001b[0m\u001b[0;34m,\u001b[0m \u001b[0mY_train\u001b[0m\u001b[0;34m)\u001b[0m\u001b[0;34m\u001b[0m\u001b[0m\n\u001b[1;32m     32\u001b[0m \u001b[0mknnModel\u001b[0m \u001b[0;34m=\u001b[0m \u001b[0mKNeighborsClassifier\u001b[0m\u001b[0;34m.\u001b[0m\u001b[0mfit\u001b[0m\u001b[0;34m(\u001b[0m\u001b[0mX_train\u001b[0m\u001b[0;34m,\u001b[0m \u001b[0mY_train\u001b[0m\u001b[0;34m)\u001b[0m\u001b[0;34m\u001b[0m\u001b[0m\n",
      "\u001b[0;31mTypeError\u001b[0m: fit() missing 1 required positional argument: 'y'"
     ]
    }
   ],
   "source": [
    "# Libraries\n",
    "from sklearn import model_selection\n",
    "from sklearn.tree import DecisionTreeClassifier\n",
    "from sklearn.ensemble import RandomForestClassifier\n",
    "from sklearn.neighbors import KNeighborsClassifier\n",
    "from sklearn.svm import SVC\n",
    "from sklearn.metrics import classification_report\n",
    "from sklearn.metrics import confusion_matrix\n",
    "from sklearn.metrics import accuracy_score\n",
    "\n",
    "# Building models\n",
    "models = []\n",
    "models.append(('RF', RandomForestClassifier()))\n",
    "models.append(('KNN', KNeighborsClassifier()))\n",
    "models.append(('CART', DecisionTreeClassifier()))\n",
    "models.append(('SVM', SVC()))\n",
    "\n",
    "results = []\n",
    "names = []\n",
    "\n",
    "for name, model in models:\n",
    "    kfold = model_selection.StratifiedKFold(n_splits=10, random_state= 7)\n",
    "    cv_results = model_selection.cross_val_score(model, X_train, Y_train, cv=kfold, scoring= 'accuracy')\n",
    "    results.append(cv_results)\n",
    "    names.append(name)\n",
    "    msg = \"%s: %f (%f)\" % (name, cv_results.mean(), cv_results.std())\n",
    "    print(msg)"
   ]
  },
  {
   "cell_type": "code",
   "execution_count": 6,
   "metadata": {},
   "outputs": [
    {
     "ename": "NameError",
     "evalue": "name 'DecisionTressClassifier' is not defined",
     "output_type": "error",
     "traceback": [
      "\u001b[0;31m---------------------------------------------------------------------------\u001b[0m",
      "\u001b[0;31mNameError\u001b[0m                                 Traceback (most recent call last)",
      "\u001b[0;32m<ipython-input-6-44eb14630fe4>\u001b[0m in \u001b[0;36m<module>\u001b[0;34m()\u001b[0m\n\u001b[1;32m      1\u001b[0m \u001b[0;31m# Fitting models\u001b[0m\u001b[0;34m\u001b[0m\u001b[0;34m\u001b[0m\u001b[0m\n\u001b[1;32m      2\u001b[0m \u001b[0msvmModel\u001b[0m \u001b[0;34m=\u001b[0m \u001b[0mSVC\u001b[0m\u001b[0;34m(\u001b[0m\u001b[0;34m)\u001b[0m\u001b[0;34m.\u001b[0m\u001b[0mfit\u001b[0m\u001b[0;34m(\u001b[0m\u001b[0mX_train\u001b[0m\u001b[0;34m,\u001b[0m \u001b[0mY_train\u001b[0m\u001b[0;34m)\u001b[0m\u001b[0;34m\u001b[0m\u001b[0m\n\u001b[0;32m----> 3\u001b[0;31m \u001b[0mcartModel\u001b[0m \u001b[0;34m=\u001b[0m \u001b[0mDecisionTressClassifier\u001b[0m\u001b[0;34m(\u001b[0m\u001b[0;34m)\u001b[0m\u001b[0;34m.\u001b[0m\u001b[0mfit\u001b[0m\u001b[0;34m(\u001b[0m\u001b[0mX_train\u001b[0m\u001b[0;34m,\u001b[0m \u001b[0mY_train\u001b[0m\u001b[0;34m)\u001b[0m\u001b[0;34m\u001b[0m\u001b[0m\n\u001b[0m\u001b[1;32m      4\u001b[0m \u001b[0mknnModel\u001b[0m \u001b[0;34m=\u001b[0m \u001b[0mKNeighborsClassifier\u001b[0m\u001b[0;34m(\u001b[0m\u001b[0;34m)\u001b[0m\u001b[0;34m.\u001b[0m\u001b[0mfit\u001b[0m\u001b[0;34m(\u001b[0m\u001b[0mX_train\u001b[0m\u001b[0;34m,\u001b[0m \u001b[0mY_train\u001b[0m\u001b[0;34m)\u001b[0m\u001b[0;34m\u001b[0m\u001b[0m\n\u001b[1;32m      5\u001b[0m \u001b[0mrfModel\u001b[0m \u001b[0;34m=\u001b[0m \u001b[0mRandomForestClassifier\u001b[0m\u001b[0;34m(\u001b[0m\u001b[0;34m)\u001b[0m\u001b[0;34m.\u001b[0m\u001b[0mfit\u001b[0m\u001b[0;34m(\u001b[0m\u001b[0mX_train\u001b[0m\u001b[0;34m,\u001b[0m \u001b[0mY_train\u001b[0m\u001b[0;34m)\u001b[0m\u001b[0;34m\u001b[0m\u001b[0m\n",
      "\u001b[0;31mNameError\u001b[0m: name 'DecisionTressClassifier' is not defined"
     ]
    }
   ],
   "source": [
    "# Fitting models\n",
    "svmModel = SVC().fit(X_train, Y_train)\n",
    "cartModel = DecisionTreeClassifier().fit(X_train, Y_train)\n",
    "knnModel = KNeighborsClassifier().fit(X_train, Y_train)\n",
    "rfModel = RandomForestClassifier().fit(X_train, Y_train)"
   ]
  },
  {
   "cell_type": "markdown",
   "metadata": {},
   "source": [
    "Well, this didn't work out very well! The cross-validation scores are extremely low.  I will try my last shot of boosting accuracies by doing an stacked ensemble method. \n",
    "\n",
    "Stacking models requires us to create new features with the predictions of the model against the actual data. Then, another algorithm (usually logistic regression) will train itself on these new features. This is why ensembling is often called a second-order model. \n",
    "\n",
    "We will begin by putting new features into the dataset that correspond to the model predictions. "
   ]
  },
  {
   "cell_type": "code",
   "execution_count": 8,
   "metadata": {
    "collapsed": true
   },
   "outputs": [],
   "source": [
    "train_meta = train\n",
    "train_meta[\"SVM\"] = \"\"\n",
    "train_meta[\"KNN\"] = \"\"\n",
    "train_meta[\"CART\"] = \"\"\n",
    "train_meta[\"RF\"] = \"\"\n",
    "\n",
    "train_meta[\"SVM\"] = svmModel.predict(X_train)\n",
    "train_meta[\"KNN\"] = knnModel.predict(X_train)\n",
    "train_meta[\"CART\"] = cartModel.predict(X_train)\n",
    "train_meta[\"RF\"] = rfModel.predict(X_train)"
   ]
  },
  {
   "cell_type": "code",
   "execution_count": 10,
   "metadata": {},
   "outputs": [],
   "source": [
    "from sklearn.linear_model import LogisticRegression\n",
    "\n",
    "ensemble_model = LogisticRegression().fit(train_meta, Y_train)"
   ]
  },
  {
   "cell_type": "markdown",
   "metadata": {},
   "source": [
    "Let us now predict the test data from the ensemble model. I will first restructure the training data with the machine learning predictions"
   ]
  },
  {
   "cell_type": "code",
   "execution_count": 39,
   "metadata": {},
   "outputs": [
    {
     "ename": "ValueError",
     "evalue": "could not convert string to float: ",
     "output_type": "error",
     "traceback": [
      "\u001b[0;31m---------------------------------------------------------------------------\u001b[0m",
      "\u001b[0;31mValueError\u001b[0m                                Traceback (most recent call last)",
      "\u001b[0;32m<ipython-input-39-6b597fa99b65>\u001b[0m in \u001b[0;36m<module>\u001b[0;34m()\u001b[0m\n\u001b[1;32m      7\u001b[0m \u001b[0mtest_meta\u001b[0m\u001b[0;34m[\u001b[0m\u001b[0;34m\"RF\"\u001b[0m\u001b[0;34m]\u001b[0m \u001b[0;34m=\u001b[0m \u001b[0;34m\"\"\u001b[0m\u001b[0;34m\u001b[0m\u001b[0m\n\u001b[1;32m      8\u001b[0m \u001b[0;34m\u001b[0m\u001b[0m\n\u001b[0;32m----> 9\u001b[0;31m \u001b[0mtest_meta\u001b[0m\u001b[0;34m[\u001b[0m\u001b[0;34m\"KNN\"\u001b[0m\u001b[0;34m]\u001b[0m \u001b[0;34m=\u001b[0m \u001b[0mknnModel\u001b[0m\u001b[0;34m.\u001b[0m\u001b[0mpredict\u001b[0m\u001b[0;34m(\u001b[0m\u001b[0mtest_x\u001b[0m\u001b[0;34m)\u001b[0m\u001b[0;34m\u001b[0m\u001b[0m\n\u001b[0m\u001b[1;32m     10\u001b[0m \u001b[0mtest_meta\u001b[0m\u001b[0;34m[\u001b[0m\u001b[0;34m\"CART\"\u001b[0m\u001b[0;34m]\u001b[0m \u001b[0;34m=\u001b[0m \u001b[0mcartModel\u001b[0m\u001b[0;34m.\u001b[0m\u001b[0mpredict\u001b[0m\u001b[0;34m(\u001b[0m\u001b[0mtest_x\u001b[0m\u001b[0;34m)\u001b[0m\u001b[0;34m\u001b[0m\u001b[0m\n\u001b[1;32m     11\u001b[0m \u001b[0mtest_meta\u001b[0m\u001b[0;34m[\u001b[0m\u001b[0;34m\"RF\"\u001b[0m\u001b[0;34m]\u001b[0m \u001b[0;34m=\u001b[0m \u001b[0mrfModel\u001b[0m\u001b[0;34m.\u001b[0m\u001b[0mpredict\u001b[0m\u001b[0;34m(\u001b[0m\u001b[0mtest_x\u001b[0m\u001b[0;34m)\u001b[0m\u001b[0;34m\u001b[0m\u001b[0m\n",
      "\u001b[0;32m~/anaconda3/lib/python3.6/site-packages/sklearn/neighbors/classification.py\u001b[0m in \u001b[0;36mpredict\u001b[0;34m(self, X)\u001b[0m\n\u001b[1;32m    141\u001b[0m             \u001b[0mClass\u001b[0m \u001b[0mlabels\u001b[0m \u001b[0;32mfor\u001b[0m \u001b[0meach\u001b[0m \u001b[0mdata\u001b[0m \u001b[0msample\u001b[0m\u001b[0;34m.\u001b[0m\u001b[0;34m\u001b[0m\u001b[0m\n\u001b[1;32m    142\u001b[0m         \"\"\"\n\u001b[0;32m--> 143\u001b[0;31m         \u001b[0mX\u001b[0m \u001b[0;34m=\u001b[0m \u001b[0mcheck_array\u001b[0m\u001b[0;34m(\u001b[0m\u001b[0mX\u001b[0m\u001b[0;34m,\u001b[0m \u001b[0maccept_sparse\u001b[0m\u001b[0;34m=\u001b[0m\u001b[0;34m'csr'\u001b[0m\u001b[0;34m)\u001b[0m\u001b[0;34m\u001b[0m\u001b[0m\n\u001b[0m\u001b[1;32m    144\u001b[0m \u001b[0;34m\u001b[0m\u001b[0m\n\u001b[1;32m    145\u001b[0m         \u001b[0mneigh_dist\u001b[0m\u001b[0;34m,\u001b[0m \u001b[0mneigh_ind\u001b[0m \u001b[0;34m=\u001b[0m \u001b[0mself\u001b[0m\u001b[0;34m.\u001b[0m\u001b[0mkneighbors\u001b[0m\u001b[0;34m(\u001b[0m\u001b[0mX\u001b[0m\u001b[0;34m)\u001b[0m\u001b[0;34m\u001b[0m\u001b[0m\n",
      "\u001b[0;32m~/anaconda3/lib/python3.6/site-packages/sklearn/utils/validation.py\u001b[0m in \u001b[0;36mcheck_array\u001b[0;34m(array, accept_sparse, dtype, order, copy, force_all_finite, ensure_2d, allow_nd, ensure_min_samples, ensure_min_features, warn_on_dtype, estimator)\u001b[0m\n\u001b[1;32m    446\u001b[0m         \u001b[0;31m# make sure we actually converted to numeric:\u001b[0m\u001b[0;34m\u001b[0m\u001b[0;34m\u001b[0m\u001b[0m\n\u001b[1;32m    447\u001b[0m         \u001b[0;32mif\u001b[0m \u001b[0mdtype_numeric\u001b[0m \u001b[0;32mand\u001b[0m \u001b[0marray\u001b[0m\u001b[0;34m.\u001b[0m\u001b[0mdtype\u001b[0m\u001b[0;34m.\u001b[0m\u001b[0mkind\u001b[0m \u001b[0;34m==\u001b[0m \u001b[0;34m\"O\"\u001b[0m\u001b[0;34m:\u001b[0m\u001b[0;34m\u001b[0m\u001b[0m\n\u001b[0;32m--> 448\u001b[0;31m             \u001b[0marray\u001b[0m \u001b[0;34m=\u001b[0m \u001b[0marray\u001b[0m\u001b[0;34m.\u001b[0m\u001b[0mastype\u001b[0m\u001b[0;34m(\u001b[0m\u001b[0mnp\u001b[0m\u001b[0;34m.\u001b[0m\u001b[0mfloat64\u001b[0m\u001b[0;34m)\u001b[0m\u001b[0;34m\u001b[0m\u001b[0m\n\u001b[0m\u001b[1;32m    449\u001b[0m         \u001b[0;32mif\u001b[0m \u001b[0;32mnot\u001b[0m \u001b[0mallow_nd\u001b[0m \u001b[0;32mand\u001b[0m \u001b[0marray\u001b[0m\u001b[0;34m.\u001b[0m\u001b[0mndim\u001b[0m \u001b[0;34m>=\u001b[0m \u001b[0;36m3\u001b[0m\u001b[0;34m:\u001b[0m\u001b[0;34m\u001b[0m\u001b[0m\n\u001b[1;32m    450\u001b[0m             raise ValueError(\"Found array with dim %d. %s expected <= 2.\"\n",
      "\u001b[0;31mValueError\u001b[0m: could not convert string to float: "
     ]
    }
   ],
   "source": [
    "test_meta = test\n",
    "test_x = test\n",
    "\n",
    "test_meta[\"SVM\"] = \"\"\n",
    "test_meta[\"KNN\"] = \"\"\n",
    "test_meta[\"CART\"] = \"\"\n",
    "test_meta[\"RF\"] = \"\"\n",
    "\n",
    "test_meta[\"KNN\"] = knnModel.predict(test_x)\n",
    "test_meta[\"CART\"] = cartModel.predict(test_x)\n",
    "test_meta[\"RF\"] = rfModel.predict(test_x)\n",
    "test_meta[\"SVM\"] = svmModel.predict(test_x)"
   ]
  },
  {
   "cell_type": "code",
   "execution_count": null,
   "metadata": {},
   "outputs": [],
   "source": [
    "pred = ensemble_model.predict(test)\n",
    "pred.to_csv(\"../data/pred.csv\")"
   ]
  },
  {
   "cell_type": "markdown",
   "metadata": {},
   "source": [
    "Unfortunately, we don't have the answers for the test dataset. We will submit the csv file of the predictions in the contest."
   ]
  },
  {
   "cell_type": "code",
   "execution_count": 45,
   "metadata": {},
   "outputs": [
    {
     "data": {
      "text/plain": [
       "Unnamed: 0                              int64\n",
       "Id                                      int64\n",
       "Soil_Type1                              int64\n",
       "Soil_Type10                             int64\n",
       "Soil_Type11                             int64\n",
       "Soil_Type12                             int64\n",
       "Soil_Type13                             int64\n",
       "Soil_Type14                             int64\n",
       "Soil_Type15                             int64\n",
       "Soil_Type16                             int64\n",
       "Soil_Type17                             int64\n",
       "Soil_Type18                             int64\n",
       "Soil_Type19                             int64\n",
       "Soil_Type2                              int64\n",
       "Soil_Type20                             int64\n",
       "Soil_Type21                             int64\n",
       "Soil_Type22                             int64\n",
       "Soil_Type23                             int64\n",
       "Soil_Type24                             int64\n",
       "Soil_Type25                             int64\n",
       "Soil_Type26                             int64\n",
       "Soil_Type27                             int64\n",
       "Soil_Type28                             int64\n",
       "Soil_Type29                             int64\n",
       "Soil_Type3                              int64\n",
       "Soil_Type30                             int64\n",
       "Soil_Type31                             int64\n",
       "Soil_Type32                             int64\n",
       "Soil_Type33                             int64\n",
       "Soil_Type34                             int64\n",
       "Soil_Type35                             int64\n",
       "Soil_Type36                             int64\n",
       "Soil_Type37                             int64\n",
       "Soil_Type38                             int64\n",
       "Soil_Type39                             int64\n",
       "Soil_Type4                              int64\n",
       "Soil_Type40                             int64\n",
       "Soil_Type5                              int64\n",
       "Soil_Type6                              int64\n",
       "Soil_Type7                              int64\n",
       "Soil_Type8                              int64\n",
       "Soil_Type9                              int64\n",
       "Wilderness_Area1                        int64\n",
       "Wilderness_Area2                        int64\n",
       "Wilderness_Area3                        int64\n",
       "Wilderness_Area4                        int64\n",
       "Aspect                                  int64\n",
       "Elevation                             float64\n",
       "Hillshade_3pm                         float64\n",
       "Hillshade_9am                         float64\n",
       "Hillshade_Noon                        float64\n",
       "Horizontal_Distance_To_Fire_Points    float64\n",
       "Horizontal_Distance_To_Hydrology      float64\n",
       "Horizontal_Distance_To_Roadways       float64\n",
       "Slope                                 float64\n",
       "Vertical_Distance_To_Hydrology        float64\n",
       "SVM                                    object\n",
       "dtype: object"
      ]
     },
     "execution_count": 45,
     "metadata": {},
     "output_type": "execute_result"
    }
   ],
   "source": [
    "testDummy = test\n",
    "testDummy[\"SVM\"] = \"\"\n",
    "test.dtypes"
   ]
  },
  {
   "cell_type": "code",
   "execution_count": 42,
   "metadata": {},
   "outputs": [
    {
     "data": {
      "text/plain": [
       "Unnamed: 0                              int64\n",
       "Id                                      int64\n",
       "Soil_Type1                              int64\n",
       "Soil_Type10                             int64\n",
       "Soil_Type11                             int64\n",
       "Soil_Type12                             int64\n",
       "Soil_Type13                             int64\n",
       "Soil_Type14                             int64\n",
       "Soil_Type15                             int64\n",
       "Soil_Type16                             int64\n",
       "Soil_Type17                             int64\n",
       "Soil_Type18                             int64\n",
       "Soil_Type19                             int64\n",
       "Soil_Type2                              int64\n",
       "Soil_Type20                             int64\n",
       "Soil_Type21                             int64\n",
       "Soil_Type22                             int64\n",
       "Soil_Type23                             int64\n",
       "Soil_Type24                             int64\n",
       "Soil_Type25                             int64\n",
       "Soil_Type26                             int64\n",
       "Soil_Type27                             int64\n",
       "Soil_Type28                             int64\n",
       "Soil_Type29                             int64\n",
       "Soil_Type3                              int64\n",
       "Soil_Type30                             int64\n",
       "Soil_Type31                             int64\n",
       "Soil_Type32                             int64\n",
       "Soil_Type33                             int64\n",
       "Soil_Type34                             int64\n",
       "Soil_Type35                             int64\n",
       "Soil_Type36                             int64\n",
       "Soil_Type37                             int64\n",
       "Soil_Type38                             int64\n",
       "Soil_Type39                             int64\n",
       "Soil_Type4                              int64\n",
       "Soil_Type40                             int64\n",
       "Soil_Type5                              int64\n",
       "Soil_Type6                              int64\n",
       "Soil_Type7                              int64\n",
       "Soil_Type8                              int64\n",
       "Soil_Type9                              int64\n",
       "Wilderness_Area1                        int64\n",
       "Wilderness_Area2                        int64\n",
       "Wilderness_Area3                        int64\n",
       "Wilderness_Area4                        int64\n",
       "Aspect                                  int64\n",
       "Elevation                             float64\n",
       "Hillshade_3pm                         float64\n",
       "Hillshade_9am                         float64\n",
       "Hillshade_Noon                        float64\n",
       "Horizontal_Distance_To_Fire_Points    float64\n",
       "Horizontal_Distance_To_Hydrology      float64\n",
       "Horizontal_Distance_To_Roadways       float64\n",
       "Slope                                 float64\n",
       "Vertical_Distance_To_Hydrology        float64\n",
       "dtype: object"
      ]
     },
     "execution_count": 42,
     "metadata": {},
     "output_type": "execute_result"
    }
   ],
   "source": [
    "X_train.dtypes"
   ]
  },
  {
   "cell_type": "code",
   "execution_count": null,
   "metadata": {
    "collapsed": true
   },
   "outputs": [],
   "source": []
  }
 ],
 "metadata": {
  "kernelspec": {
   "display_name": "Python 3",
   "language": "python",
   "name": "python3"
  },
  "language_info": {
   "codemirror_mode": {
    "name": "ipython",
    "version": 3
   },
   "file_extension": ".py",
   "mimetype": "text/x-python",
   "name": "python",
   "nbconvert_exporter": "python",
   "pygments_lexer": "ipython3",
   "version": "3.6.3"
  }
 },
 "nbformat": 4,
 "nbformat_minor": 2
}
